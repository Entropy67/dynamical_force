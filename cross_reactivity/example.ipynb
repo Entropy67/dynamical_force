{
 "cells": [
  {
   "cell_type": "code",
   "execution_count": 56,
   "metadata": {
    "collapsed": true
   },
   "outputs": [],
   "source": [
    "import sys\n",
    "import matplotlib.pyplot as plt\n",
    "from os import listdir\n",
    "import numpy as np\n",
    "from importlib import reload"
   ]
  },
  {
   "cell_type": "code",
   "execution_count": 57,
   "metadata": {},
   "outputs": [],
   "source": [
    "\n",
    "sys.path.insert(-1, \"../\") # it is important to add the script to path\n",
    "import script.data as data\n",
    "import script.utilities as utl\n"
   ]
  },
  {
   "cell_type": "markdown",
   "metadata": {},
   "source": [
    "## Load data"
   ]
  },
  {
   "cell_type": "code",
   "execution_count": 96,
   "metadata": {},
   "outputs": [
    {
     "name": "stdout",
     "output_type": "stream",
     "text": [
      "1\n"
     ]
    }
   ],
   "source": [
    "reload(data)\n",
    "# load the data\n",
    "\"\"\"\n",
    "The following function load the data from json file\n",
    "    arguments:\n",
    "        folder: string, the folder where all data lives\n",
    "        fname:  list, a list of the sub-folder (workspace) names.\n",
    "        temp: boolean, whether or not include the data_temp.json. If the simulation hasn't finished yet, it is useful to set it True\n",
    "        data_name: a list of file name for all data json file.\n",
    "                if you launch experiments multiple times in the same workspace, \n",
    "                which will happen if you want to continue to scan more parameter values for the same parameter type after some experiments\n",
    "                the program will generate multiple data json file, (i.e. data.json, data_3.json, data_3.1.json, etc).\n",
    "                In this case, you can include all the data json file in this list\n",
    "    return:\n",
    "        a list of MyData objects\n",
    "\"\"\"\n",
    "test_data = data.load_data(\n",
    "    folder=\"output/\",\n",
    "    fname=[\"test\"],\n",
    "    temp=False,\n",
    "    data_name=[\"data.json\"],\n",
    ")\n",
    "# the length of the test_data is equal to the length of fname list\n",
    "print(len(test_data))"
   ]
  },
  {
   "cell_type": "markdown",
   "metadata": {},
   "source": [
    "## Get data"
   ]
  },
  {
   "cell_type": "code",
   "execution_count": 97,
   "metadata": {},
   "outputs": [
    {
     "name": "stdout",
     "output_type": "stream",
     "text": [
      "dict_keys(['prms', 'prms2', 'tr', 'tr_std', 'tstd', 'tstd_std', 'fr', 'fr_std', 'fstd', 'fstd_std', 'tr_all', 'tr_all_std', 'nag', 'nag_std', 'nstd', 'nstd_std', 'nag_antag', 'nag_antag_std', 'nstd_antag', 'nstd_antag_std', 'nag_all', 'nag_all_std', 'm2max', 'm2max_std', 'm2mstd', 'm2mstd_std', 'm1max', 'm1max_std', 'm1mstd', 'm1mstd_std', 'mmax', 'mmax_std', 'mmstd', 'mmstd_std', 'm2max_all', 'm2max_all_std', 'tr_most_prob', 'tr_most_prob_std', 'tr_median', 'tr_median_std', 'ntot', 'ntot_std', 'nstd_tot', 'nstd_tot_std', 'm1tot', 'm1tot_std', 'm2tot', 'm2tot_std', 'fra', 'fra_std', 'frb', 'frb_std', 'm1stdtot', 'm1stdtot_std', 'm2stdtot', 'm2stdtot_std', 'fstdra', 'fstdra_std', 'fstdrb', 'fstdrb_std', 'eta_bar', 'eta_bar_std', 'eta_var', 'eta_var_std', 'etastd_bar', 'etastd_bar_std', 'etastd_var', 'etastd_var_std', 'nag1', 'nag1_std', 'nag2', 'nag2_std', 'nstd1', 'nstd1_std', 'nstd2', 'nstd2_std', 'nag3', 'nag3_std', 'nag4', 'nag4_std', 'nstd3', 'nstd3_std', 'nstd4', 'nstd4_std', 'eb_sens', 'eb_sens_std', 'l0_sens', 'l0_sens_std', 'eb_acc', 'eb_acc_std', 'l0_acc', 'l0_acc_std', 'log_eb_sens', 'log_eb_sens_std', 'log_l0_sens', 'log_l0_sens_std', 'nag0', 'nag0_std', 'fr0', 'fr0_std', 'tr0', 'tr0_std', 'm2max0', 'm2max0_std', 'nstd0', 'nstd0_std', 'fstd0', 'fstd0_std', 'tstd0', 'tstd0_std', 'm2mstd0', 'm2mstd0_std', 'm1tot0', 'm1tot0_std', 'm2tot0', 'm2tot0_std', 'fra0', 'fra0_std', 'frb0', 'frb0_std', 'antagN', 'antagN_std', 'antagT', 'antagT_std', 'nag5', 'nag5_std', 'nag6', 'nag6_std', 'fidelity_n', 'fidelity_n_std', 'fidelity_t', 'fidelity_t_std', 'fidelity_m', 'fidelity_m_std', 'Dkl', 'Dkl_std', 'opt_prm', 'opt_prm_std', 'opt_acc', 'opt_acc_std', 'opt_prm_0', 'opt_prm_0_std', 'opt_prm_1', 'opt_prm_1_std', 'opt_prm_2', 'opt_prm_2_std', 'nag_seg', 'nag_seg_std', 'fr_seg', 'fr_seg_std', 'tr_seg', 'tr_seg_std', 'm2max_seg', 'm2max_seg_std', 'nag_antag_seg', 'nag_antag_seg_std', 'm1max_seg', 'm1max_seg_std', 'mmax_seg', 'mmax_seg_std', 'nstd_seg', 'nstd_seg_std', 'fstd_seg', 'fstd_seg_std', 'tstd_seg', 'tstd_seg_std', 'm2mstd_seg', 'm2mstd_seg_std', 'nstd_antag_seg', 'nstd_antag_seg_std', 'm1mstd_seg', 'm1mstd_seg_std', 'mmstd_seg', 'mmstd_seg_std', 'nag_seg2', 'nag_seg2_std', 'fr_seg2', 'fr_seg2_std', 'tr_seg2', 'tr_seg2_std', 'm2max_seg2', 'm2max_seg2_std', 'nag_antag_seg2', 'nag_antag_seg2_std', 'm1max_seg2', 'm1max_seg2_std', 'mmax_seg2', 'mmax_seg2_std', 'nstd_seg2', 'nstd_seg2_std', 'fstd_seg2', 'fstd_seg2_std', 'tstd_seg2', 'tstd_seg2_std', 'm2mstd_seg2', 'm2mstd_seg2_std', 'nstd_antag_seg2', 'nstd_antag_seg2_std', 'm1mstd_seg2', 'm1mstd_seg2_std', 'mmstd_seg2', 'mmstd_seg2_std'])\n"
     ]
    }
   ],
   "source": [
    "# all the keys\n",
    "print(test_data[0].dataset.keys())"
   ]
  },
  {
   "cell_type": "code",
   "execution_count": 98,
   "metadata": {},
   "outputs": [
    {
     "name": "stdout",
     "output_type": "stream",
     "text": [
      "Parameter scanned:  [ 5  6  7  8  9 10 11 12 13 14 15 16 17 18 19 20]\n"
     ]
    }
   ],
   "source": [
    "\n",
    "print(\"Parameter scanned: \", test_data[0].get(\"prms\")) # parameter scanned"
   ]
  },
  {
   "cell_type": "code",
   "execution_count": 99,
   "metadata": {},
   "outputs": [
    {
     "name": "stdout",
     "output_type": "stream",
     "text": [
      "Well-mixed scenario: \n",
      "> Extraction of Ag1:  [14.355 14.665 14.185 14.685 12.695 10.11   7.585  6.67   7.88   9.1\n",
      "  9.94  10.075 10.475 10.975 10.575 10.205]\n",
      "  s.t.d. within a B cell:  [4.19679436 4.18495522 3.505045   3.20896809 3.63234672 3.6284864\n",
      " 3.27147408 2.53166509 2.59222311 3.08139926 2.6285463  3.14719856\n",
      " 3.28398943 3.07314952 2.77941833 2.88657751]\n",
      "  s.t.d. between B cells (uncertainty):  [1.72553615 1.43117958 1.2618538  1.04655387 0.95523557 1.53456834\n",
      " 1.12972342 0.85621259 0.87555697 0.76419893 1.2563439  0.92567543\n",
      " 1.47474574 0.93961428 0.96222399 1.17152678]\n",
      "> Extraction of Ag2:  [1.5000e-02 2.0000e-02 9.0000e-02 1.5000e-01 5.0500e-01 1.1300e+00\n",
      " 2.3950e+00 4.1050e+00 6.8900e+00 1.1110e+01 1.4460e+01 1.8160e+01\n",
      " 2.0660e+01 2.2560e+01 2.3565e+01 2.4625e+01]\n",
      "  s.t.d. within a B cell:  [0.035      0.06       0.19582576 0.318992   0.65137852 0.9515483\n",
      " 1.48780946 1.96428611 2.48143352 3.35834575 3.53510823 4.23487903\n",
      " 4.55018846 4.8725377  4.36550104 4.37338646]\n",
      "  s.t.d. between B cells (uncertainty):  [0.04769696 0.04       0.09949874 0.10246951 0.21788759 0.31480152\n",
      " 0.36534231 0.60371765 0.59152346 1.1601293  1.43923591 1.82767612\n",
      " 1.97848427 1.84510162 1.30509578 2.15008721]\n"
     ]
    }
   ],
   "source": [
    "print(\"Well-mixed scenario: \")\n",
    "print(\"> Extraction of Ag1: \", test_data[0].get(\"nag\"))\n",
    "print(\"  s.t.d. within a B cell: \", test_data[0].get(\"nstd\"))\n",
    "print(\"  s.t.d. between B cells (uncertainty): \", test_data[0].get(\"nag_std\"))\n",
    "print(\"> Extraction of Ag2: \", test_data[0].get(\"nag_antag\"))\n",
    "print(\"  s.t.d. within a B cell: \", test_data[0].get(\"nstd_antag\"))\n",
    "print(\"  s.t.d. between B cells (uncertainty): \", test_data[0].get(\"nag_antag_std\"))"
   ]
  },
  {
   "cell_type": "code",
   "execution_count": 100,
   "metadata": {},
   "outputs": [
    {
     "name": "stdout",
     "output_type": "stream",
     "text": [
      "Segregated scenario: all Ag1, no Ag2\n",
      "> Extraction of Ag1:  [16.245 16.405 15.985 15.905 16.055 16.55  16.14  16.295 16.355 16.53\n",
      " 15.76  17.445 16.295 16.015 16.265 17.12 ]\n",
      "  s.t.d. within a B cell:  [4.09818667 4.40593779 4.31724707 4.10812348 4.18010881 4.26943687\n",
      " 4.42369514 4.49439573 4.36424287 4.99945147 4.50430543 4.5725643\n",
      " 4.5021886  4.30373474 4.26628829 4.50396955]\n",
      "  s.t.d. between B cells (uncertainty):  [1.5170613  1.78507003 1.43362303 1.23833558 1.63293448 1.16038787\n",
      " 1.56185787 1.464744   1.54966932 1.62021603 1.10788086 1.27022636\n",
      " 1.80955105 2.07972955 1.42030807 1.25323581]\n",
      "> Extraction of Ag2:  [0. 0. 0. 0. 0. 0. 0. 0. 0. 0. 0. 0. 0. 0. 0. 0.]\n",
      "  s.t.d. within a B cell:  [0. 0. 0. 0. 0. 0. 0. 0. 0. 0. 0. 0. 0. 0. 0. 0.]\n",
      "  s.t.d. between B cells (uncertainty):  [0. 0. 0. 0. 0. 0. 0. 0. 0. 0. 0. 0. 0. 0. 0. 0.]\n"
     ]
    }
   ],
   "source": [
    "print(\"Segregated scenario: all Ag1, no Ag2\")\n",
    "print(\"> Extraction of Ag1: \", test_data[0].get(\"nag_seg\"))\n",
    "print(\"  s.t.d. within a B cell: \", test_data[0].get(\"nstd_seg\"))\n",
    "print(\"  s.t.d. between B cells (uncertainty): \", test_data[0].get(\"nag_seg_std\"))\n",
    "print(\"> Extraction of Ag2: \", test_data[0].get(\"nag_antag_seg\"))\n",
    "print(\"  s.t.d. within a B cell: \", test_data[0].get(\"nstd_antag_seg\"))\n",
    "print(\"  s.t.d. between B cells (uncertainty): \", test_data[0].get(\"nag_antag_seg_std\"))"
   ]
  },
  {
   "cell_type": "code",
   "execution_count": 101,
   "metadata": {},
   "outputs": [
    {
     "name": "stdout",
     "output_type": "stream",
     "text": [
      "Segregated scenario: all Ag2, no Ag1\n",
      "> Extraction of Ag1:  [0. 0. 0. 0. 0. 0. 0. 0. 0. 0. 0. 0. 0. 0. 0. 0.]\n",
      "  s.t.d. within a B cell:  [0. 0. 0. 0. 0. 0. 0. 0. 0. 0. 0. 0. 0. 0. 0. 0.]\n",
      "  s.t.d. between B cells (uncertainty):  [0. 0. 0. 0. 0. 0. 0. 0. 0. 0. 0. 0. 0. 0. 0. 0.]\n",
      "> Extraction of Ag2:  [1.0000e-02 5.0000e-03 2.4000e-01 6.2500e-01 1.0600e+00 2.0250e+00\n",
      " 3.3100e+00 7.3200e+00 1.4220e+01 2.3485e+01 3.4880e+01 4.5725e+01\n",
      " 5.1340e+01 5.6170e+01 5.7400e+01 6.0045e+01]\n",
      "  s.t.d. within a B cell:  [0.03       0.015      0.43507277 0.67731677 1.07042554 1.35503058\n",
      " 1.82705312 2.77908439 4.01288172 5.09237113 5.88273899 7.06806347\n",
      " 7.3730383  7.234542   8.00331138 8.1221843 ]\n",
      "  s.t.d. between B cells (uncertainty):  [0.03       0.02179449 0.14628739 0.29643718 0.32619013 0.44595403\n",
      " 0.7628237  0.86174242 1.51611345 1.79283993 1.90620041 2.58686586\n",
      " 2.3087659  2.04159252 2.39874967 2.78719841]\n"
     ]
    }
   ],
   "source": [
    "print(\"Segregated scenario: all Ag2, no Ag1\")\n",
    "print(\"> Extraction of Ag1: \", test_data[0].get(\"nag_seg2\"))\n",
    "print(\"  s.t.d. within a B cell: \", test_data[0].get(\"nstd_seg2\"))\n",
    "print(\"  s.t.d. between B cells (uncertainty): \", test_data[0].get(\"nag_seg2_std\"))\n",
    "print(\"> Extraction of Ag2: \", test_data[0].get(\"nag_antag_seg2\"))\n",
    "print(\"  s.t.d. within a B cell: \", test_data[0].get(\"nstd_antag_seg2\"))\n",
    "print(\"  s.t.d. between B cells (uncertainty): \", test_data[0].get(\"nag_antag_seg2_std\"))"
   ]
  },
  {
   "cell_type": "markdown",
   "metadata": {},
   "source": [
    "## Post-processing"
   ]
  },
  {
   "cell_type": "code",
   "execution_count": 106,
   "metadata": {
    "collapsed": true
   },
   "outputs": [],
   "source": [
    "# Depending how you define the cross-reactive-score, the following function can be modified\n",
    "def calculate_cross_reactive_score(nag1_mix, nag2_mix, nag1_seg, nag2_seg):\n",
    "    ntot_mix = nag1_mix + nag2_mix\n",
    "    ntot_seg = (nag1_seg + nag2_seg) / 2\n",
    "    return (ntot_mix - ntot_seg) / (ntot_mix + ntot_seg)"
   ]
  },
  {
   "cell_type": "markdown",
   "metadata": {},
   "source": [
    "## Plot the data"
   ]
  },
  {
   "cell_type": "code",
   "execution_count": 103,
   "metadata": {},
   "outputs": [
    {
     "data": {
      "image/png": "[encoded data removed]",
      "text/plain": [
       "<Figure size 432x288 with 1 Axes>"
      ]
     },
     "metadata": {
      "needs_background": "light"
     },
     "output_type": "display_data"
    }
   ],
   "source": [
    "## segregated\n",
    "\n",
    "# Ag1 extraction vs Ag2 affinity\n",
    "plt.plot(\n",
    "    test_data[0].get(\"prms\"),\n",
    "    test_data[0].get(\"nag_seg\"),\n",
    "    '-o',\n",
    "    label=\"Ag1\"\n",
    ")\n",
    "# Ag2 extraction vs Ag2 affinity\n",
    "plt.plot(\n",
    "    test_data[0].get(\"prms\"),\n",
    "    test_data[0].get(\"nag_antag_seg2\"),\n",
    "    '-o',\n",
    "    label=\"Ag2\"\n",
    ")\n",
    "plt.xlabel(\"Ag2 affinity\")\n",
    "plt.ylabel(\"Ag extraction\")\n",
    "plt.legend()\n",
    "plt.title(\"Well-mixed\")\n",
    "plt.show()"
   ]
  },
  {
   "cell_type": "markdown",
   "metadata": {},
   "source": [
    "If antigens are segregated, there is no interactions beteen them within our model setup. Thus, it is expected that the change in Ag2 affinity has no effect on the extraction of Ag1. "
   ]
  },
  {
   "cell_type": "code",
   "execution_count": 104,
   "metadata": {},
   "outputs": [
    {
     "data": {
      "image/png": "[encoded data removed]",
      "text/plain": [
       "<Figure size 432x288 with 1 Axes>"
      ]
     },
     "metadata": {
      "needs_background": "light"
     },
     "output_type": "display_data"
    }
   ],
   "source": [
    "## well mixed\n",
    "\n",
    "# Ag1 extraction vs Ag2 affinity\n",
    "plt.plot(\n",
    "    test_data[0].get(\"prms\"),\n",
    "    test_data[0].get(\"nag\"),\n",
    "    '-o',\n",
    "    label=\"Ag1\"\n",
    ")\n",
    "# Ag2 extraction vs Ag2 affinity\n",
    "plt.plot(\n",
    "    test_data[0].get(\"prms\"),\n",
    "    test_data[0].get(\"nag_antag\"),\n",
    "    '-o',\n",
    "    label=\"Ag2\"\n",
    ")\n",
    "plt.xlabel(\"Ag2 affinity\")\n",
    "plt.ylabel(\"Ag extraction\")\n",
    "plt.legend()\n",
    "plt.title(\"Well-mixed\")\n",
    "plt.show()"
   ]
  },
  {
   "cell_type": "markdown",
   "metadata": {},
   "source": [
    "However, if antigens are well mixed, they interact with each other through complicated processes:\n",
    "- They cooperatively form clusters to trigger the force\n",
    "- Togehter they share the force during the initial extraction stage (coorperative)\n",
    "- If one type of antigens gets entirely extracted, all the force will be acting on the other antigen type, inhibiting the acquisition of the later type (inhibitive).\n",
    "\n",
    "\n",
    "Therefore, the overall effect can be coorperative or inhibitive, depending on which interaction type dominates. We can see as Ag2 affinity increases, Ag1 extraction first decreases then increases. The decrease might be because Ag2 is getting better to trigger the force but not good enough to be able to share the force in the late stage. When Ag2 affinity is good enough (i.e. exceeds Ag1 affinity (13.3kT)), Ag1 extraction increases as Ag2 affinity improves. "
   ]
  },
  {
   "cell_type": "code",
   "execution_count": 107,
   "metadata": {},
   "outputs": [
    {
     "data": {
      "image/png": "[encoded data removed]",
      "text/plain": [
       "<Figure size 432x288 with 1 Axes>"
      ]
     },
     "metadata": {
      "needs_background": "light"
     },
     "output_type": "display_data"
    }
   ],
   "source": [
    "plt.plot(\n",
    "    test_data[0].get(\"prms\"), \n",
    "    calculate_cross_reactive_score(\n",
    "        test_data[0].get(\"nag\"),\n",
    "        test_data[0].get(\"nag_antag\"),\n",
    "        test_data[0].get(\"nag_seg\"),\n",
    "        test_data[0].get(\"nag_antag_seg2\")\n",
    "    ),\n",
    "    '-o'\n",
    ")\n",
    "plt.xlabel(\"Ag2 affinity\")\n",
    "plt.ylabel(\"Cross-reactive score\")\n",
    "plt.show()"
   ]
  },
  {
   "cell_type": "code",
   "execution_count": null,
   "metadata": {
    "collapsed": true
   },
   "outputs": [],
   "source": []
  }
 ],
 "metadata": {
  "kernelspec": {
   "display_name": "Python 3",
   "language": "python",
   "name": "python3"
  },
  "language_info": {
   "codemirror_mode": {
    "name": "ipython",
    "version": 3
   },
   "file_extension": ".py",
   "mimetype": "text/x-python",
   "name": "python",
   "nbconvert_exporter": "python",
   "pygments_lexer": "ipython3",
   "version": "3.6.3"
  }
 },
 "nbformat": 4,
 "nbformat_minor": 2
}
